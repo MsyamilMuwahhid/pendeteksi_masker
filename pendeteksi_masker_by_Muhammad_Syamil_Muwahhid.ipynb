{
 "cells": [
  {
   "cell_type": "code",
   "execution_count": 1,
   "metadata": {},
   "outputs": [],
   "source": [
    "import cv2"
   ]
  },
  {
   "cell_type": "code",
   "execution_count": 3,
   "metadata": {},
   "outputs": [],
   "source": [
    "faceCascade = cv2.CascadeClassifier(\"facert/haarcascade_frontalface_default.xml\")\n",
    "noseCascade = cv2.CascadeClassifier(\"facert/Nariz.xml\")"
   ]
  },
  {
   "cell_type": "code",
   "execution_count": null,
   "metadata": {},
   "outputs": [],
   "source": [
    "video_capture = cv2.VideoCapture(0)\n",
    "mask_on = False\n",
    "\n",
    "\n",
    "while True:\n",
    "    #ambil frame-by-frame\n",
    "    ret, frame = video_capture.read()\n",
    "    gray = cv2.cvtColor(frame, cv2.COLOR_BGR2GRAY)\n",
    "    wajah = faceCascade.detectMultiScale(gray, 1.1, 5)\n",
    "    \n",
    "    \n",
    "    #gambar kotak di wajah\n",
    "    for(x, y, w, h) in wajah:\n",
    "        roi_gray = gray[y:y+h, x:x+w]\n",
    "        roi_color = frame[y:y+h, x:x+w]\n",
    "        if mask_on:\n",
    "            cv2.rectangle(frame, (x, y), (x+w, y+h), (0, 255, 0), 3)\n",
    "            cv2.putText(frame,'masker telah dipakai',(x, y), cv2.FONT_HERSHEY_SIMPLEX, 1,(0,255,0),2)\n",
    "        else:\n",
    "            cv2.rectangle(frame, (x, y), (x+w, y+h), (0, 0, 255), 3)\n",
    "            cv2.putText(frame,'masker belum terpakai',(x, y), cv2.FONT_HERSHEY_SIMPLEX, 1,(0,0,255),2)\n",
    "            \n",
    "            \n",
    "    #gambar kotak di hidung\n",
    "    hidung = noseCascade.detectMultiScale(roi_gray, 1.18, 35,)\n",
    "    for (sx, sy, sw, sh) in hidung:\n",
    "        cv2.rectangle(roi_color, (sh, sy), (sx + sw, sy+sh), (255,0,0),2)\n",
    "        cv2.putText(frame,'hidung',(x + sx, y + sy), 1, 1, (0, 255, 0),1)\n",
    "        \n",
    "        \n",
    "    if len(hidung)>0:\n",
    "        mask_on = False\n",
    "    else:\n",
    "        mask_on = True\n",
    "        \n",
    "    cv2.putText(frame,'jumlah wajah : ' + str(len(wajah)),(30, 30), cv2.FONT_HERSHEY_SIMPLEX, 1,(255,0,0),2)\n",
    "    cv2.imshow('Pendeteksi Masker by Muhammad Syamil Muwahhid',frame)\n",
    "    \n",
    "    \n",
    "    if cv2.waitKey(1) & 0xff == ord('q'):\n",
    "        break\n",
    "        \n",
    "        \n",
    "video_capture.release()\n",
    "cv2.destroyAllWindows()"
   ]
  },
  {
   "cell_type": "code",
   "execution_count": null,
   "metadata": {},
   "outputs": [],
   "source": []
  }
 ],
 "metadata": {
  "kernelspec": {
   "display_name": "Python 3",
   "language": "python",
   "name": "python3"
  },
  "language_info": {
   "codemirror_mode": {
    "name": "ipython",
    "version": 3
   },
   "file_extension": ".py",
   "mimetype": "text/x-python",
   "name": "python",
   "nbconvert_exporter": "python",
   "pygments_lexer": "ipython3",
   "version": "3.7.7"
  }
 },
 "nbformat": 4,
 "nbformat_minor": 4
}
